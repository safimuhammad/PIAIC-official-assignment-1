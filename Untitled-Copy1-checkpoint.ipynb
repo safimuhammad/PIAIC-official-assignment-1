{
 "cells": [
  {
   "cell_type": "code",
   "execution_count": 7,
   "metadata": {},
   "outputs": [
    {
     "name": "stdout",
     "output_type": "stream",
     "text": [
      "Do you have a valid cnicyes\n",
      "come inside\n",
      "is your name is voter listyes\n",
      "you can caste vote\n"
     ]
    }
   ],
   "source": [
    "cnic_Status = input(\"Do you have a valid cnic\")\n",
    "if cnic_Status == \"yes\":\n",
    "    print(\"come inside\")\n",
    "    name_in_list = input(\"is your name is voter list\")\n",
    "    if name_in_list == \"yes\":\n",
    "        print(\"you can caste vote\")\n",
    "    else:\n",
    "        print(\"you can not caste vote\")   \n",
    "else:\n",
    "    print(\"you can not caste vote\")\n",
    "    \n",
    "            \n",
    "        "
   ]
  },
  {
   "cell_type": "code",
   "execution_count": 6,
   "metadata": {},
   "outputs": [
    {
     "name": "stdout",
     "output_type": "stream",
     "text": [
      "enter a characterb\n",
      "the character is a consonant\n"
     ]
    }
   ],
   "source": [
    "char = input(\"enter a character\")\n",
    "\n",
    "if (char ==\"a\" or char ==\"i\" or char ==\"u\"):\n",
    "    print(\"the character is a vowel\") \n",
    "else:\n",
    "    print (\"the character is a consonant\") \n",
    "    "
   ]
  },
  {
   "cell_type": "code",
   "execution_count": 10,
   "metadata": {},
   "outputs": [
    {
     "data": {
      "text/plain": [
       "5"
      ]
     },
     "execution_count": 10,
     "metadata": {},
     "output_type": "execute_result"
    }
   ],
   "source": [
    "aList = [\"altaf\",\"choudary\",\"sindhi immi\",\"badmash meo\",\"zainap\"]\n",
    "len(aList)"
   ]
  },
  {
   "cell_type": "code",
   "execution_count": 16,
   "metadata": {},
   "outputs": [
    {
     "data": {
      "text/plain": [
       "5"
      ]
     },
     "execution_count": 16,
     "metadata": {},
     "output_type": "execute_result"
    }
   ],
   "source": [
    "list2 = [\"apple\",1234,False,15315]\n",
    "len(aList)"
   ]
  },
  {
   "cell_type": "code",
   "execution_count": 19,
   "metadata": {},
   "outputs": [],
   "source": [
    "list2[0] = \"oranges\""
   ]
  },
  {
   "cell_type": "code",
   "execution_count": 20,
   "metadata": {
    "scrolled": true
   },
   "outputs": [
    {
     "data": {
      "text/plain": [
       "['oranges', 1234, False, 15315]"
      ]
     },
     "execution_count": 20,
     "metadata": {},
     "output_type": "execute_result"
    }
   ],
   "source": [
    "list2"
   ]
  },
  {
   "cell_type": "code",
   "execution_count": null,
   "metadata": {},
   "outputs": [],
   "source": [
    "list2.append(6264)\n"
   ]
  },
  {
   "cell_type": "code",
   "execution_count": 27,
   "metadata": {},
   "outputs": [
    {
     "data": {
      "text/plain": [
       "['oranges', 1234, False, 15315, 18463]"
      ]
     },
     "execution_count": 27,
     "metadata": {},
     "output_type": "execute_result"
    }
   ],
   "source": [
    "list2"
   ]
  },
  {
   "cell_type": "code",
   "execution_count": null,
   "metadata": {},
   "outputs": [],
   "source": []
  }
 ],
 "metadata": {
  "kernelspec": {
   "display_name": "Python 3",
   "language": "python",
   "name": "python3"
  },
  "language_info": {
   "codemirror_mode": {
    "name": "ipython",
    "version": 3
   },
   "file_extension": ".py",
   "mimetype": "text/x-python",
   "name": "python",
   "nbconvert_exporter": "python",
   "pygments_lexer": "ipython3",
   "version": "3.7.3"
  }
 },
 "nbformat": 4,
 "nbformat_minor": 2
}
